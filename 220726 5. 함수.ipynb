{
 "cells": [
  {
   "cell_type": "code",
   "execution_count": 1,
   "id": "5f6d5049",
   "metadata": {},
   "outputs": [],
   "source": [
    "def addto(a, b) :\n",
    "    return a + b"
   ]
  },
  {
   "cell_type": "code",
   "execution_count": 2,
   "id": "d58b5995",
   "metadata": {},
   "outputs": [
    {
     "data": {
      "text/plain": [
       "10"
      ]
     },
     "execution_count": 2,
     "metadata": {},
     "output_type": "execute_result"
    }
   ],
   "source": [
    "addto(4, 6)"
   ]
  },
  {
   "cell_type": "code",
   "execution_count": 3,
   "id": "1afabcd8",
   "metadata": {},
   "outputs": [],
   "source": [
    "def MUL(a, b) :\n",
    "    m = a*b\n",
    "    return m"
   ]
  },
  {
   "cell_type": "code",
   "execution_count": 4,
   "id": "2c31aebc",
   "metadata": {},
   "outputs": [
    {
     "data": {
      "text/plain": [
       "18"
      ]
     },
     "execution_count": 4,
     "metadata": {},
     "output_type": "execute_result"
    }
   ],
   "source": [
    "MUL(3, 6)"
   ]
  },
  {
   "cell_type": "code",
   "execution_count": 5,
   "id": "26d3db83",
   "metadata": {},
   "outputs": [
    {
     "ename": "NameError",
     "evalue": "name 'm' is not defined",
     "output_type": "error",
     "traceback": [
      "\u001b[0;31m---------------------------------------------------------------------------\u001b[0m",
      "\u001b[0;31mNameError\u001b[0m                                 Traceback (most recent call last)",
      "Input \u001b[0;32mIn [5]\u001b[0m, in \u001b[0;36m<cell line: 1>\u001b[0;34m()\u001b[0m\n\u001b[0;32m----> 1\u001b[0m \u001b[43mm\u001b[49m\n",
      "\u001b[0;31mNameError\u001b[0m: name 'm' is not defined"
     ]
    }
   ],
   "source": [
    "m # 함수 안에서만 사용할 수 있는 변수"
   ]
  },
  {
   "cell_type": "code",
   "execution_count": 6,
   "id": "de27c69c",
   "metadata": {},
   "outputs": [
    {
     "name": "stdout",
     "output_type": "stream",
     "text": [
      "7\n"
     ]
    }
   ],
   "source": [
    "def add(a, b) : # a, b는 매개변수\n",
    "    c = a + b\n",
    "    return c\n",
    "\n",
    "print(add(3, 4)) # 3, 4는 인수(파라미터)"
   ]
  },
  {
   "cell_type": "code",
   "execution_count": 7,
   "id": "5ab5ce8c",
   "metadata": {},
   "outputs": [],
   "source": [
    "def add2(a, b) : # a, b는 매개변수\n",
    "    c = a + b"
   ]
  },
  {
   "cell_type": "code",
   "execution_count": 8,
   "id": "15bbc60a",
   "metadata": {},
   "outputs": [],
   "source": [
    "add2(3, 4) # return이 없어 반환되는 값이 없음"
   ]
  },
  {
   "cell_type": "code",
   "execution_count": 9,
   "id": "e4b864da",
   "metadata": {},
   "outputs": [
    {
     "ename": "NameError",
     "evalue": "name 'c' is not defined",
     "output_type": "error",
     "traceback": [
      "\u001b[0;31m---------------------------------------------------------------------------\u001b[0m",
      "\u001b[0;31mNameError\u001b[0m                                 Traceback (most recent call last)",
      "Input \u001b[0;32mIn [9]\u001b[0m, in \u001b[0;36m<cell line: 1>\u001b[0;34m()\u001b[0m\n\u001b[0;32m----> 1\u001b[0m \u001b[43mc\u001b[49m\n",
      "\u001b[0;31mNameError\u001b[0m: name 'c' is not defined"
     ]
    }
   ],
   "source": [
    "c # 함수 밖에서 사용 불가능"
   ]
  },
  {
   "cell_type": "code",
   "execution_count": 14,
   "id": "2fa2fcc2",
   "metadata": {},
   "outputs": [],
   "source": [
    "def add2(a, b) : # a, b는 매개변수\n",
    "    c = a + b\n",
    "    return c"
   ]
  },
  {
   "cell_type": "code",
   "execution_count": 15,
   "id": "749e5c62",
   "metadata": {},
   "outputs": [
    {
     "data": {
      "text/plain": [
       "4"
      ]
     },
     "execution_count": 15,
     "metadata": {},
     "output_type": "execute_result"
    }
   ],
   "source": [
    "add2(3, 1)"
   ]
  },
  {
   "cell_type": "code",
   "execution_count": 16,
   "id": "ea62d6b2",
   "metadata": {},
   "outputs": [],
   "source": [
    "# 입력값이 없는 함수\n",
    "def say() :\n",
    "    return \"Ho!\""
   ]
  },
  {
   "cell_type": "code",
   "execution_count": 17,
   "id": "9ed728a2",
   "metadata": {},
   "outputs": [
    {
     "data": {
      "text/plain": [
       "'Ho!'"
      ]
     },
     "execution_count": 17,
     "metadata": {},
     "output_type": "execute_result"
    }
   ],
   "source": [
    "say()"
   ]
  },
  {
   "cell_type": "code",
   "execution_count": 18,
   "id": "98aafbf6",
   "metadata": {},
   "outputs": [],
   "source": [
    "def add(a, b) :\n",
    "    print(a, b, \"의 합은 \", a + b, \"입니다.\")\n",
    "    c = a + b\n",
    "    return c"
   ]
  },
  {
   "cell_type": "code",
   "execution_count": 19,
   "id": "8e316183",
   "metadata": {},
   "outputs": [
    {
     "name": "stdout",
     "output_type": "stream",
     "text": [
      "3 4 의 합은  7 입니다.\n"
     ]
    },
    {
     "data": {
      "text/plain": [
       "7"
      ]
     },
     "execution_count": 19,
     "metadata": {},
     "output_type": "execute_result"
    }
   ],
   "source": [
    "test = add(3, 4)\n",
    "test"
   ]
  },
  {
   "cell_type": "code",
   "execution_count": 20,
   "id": "f8bc8762",
   "metadata": {},
   "outputs": [],
   "source": [
    "a = say()"
   ]
  },
  {
   "cell_type": "code",
   "execution_count": 21,
   "id": "008793cb",
   "metadata": {},
   "outputs": [
    {
     "data": {
      "text/plain": [
       "'Ho!'"
      ]
     },
     "execution_count": 21,
     "metadata": {},
     "output_type": "execute_result"
    }
   ],
   "source": [
    "a"
   ]
  },
  {
   "cell_type": "code",
   "execution_count": 22,
   "id": "138a9630",
   "metadata": {},
   "outputs": [],
   "source": [
    "# 매개변수를 지정하여 호출\n",
    "def add(a, b) :\n",
    "    return a + b"
   ]
  },
  {
   "cell_type": "code",
   "execution_count": 23,
   "id": "5453030f",
   "metadata": {},
   "outputs": [
    {
     "data": {
      "text/plain": [
       "4"
      ]
     },
     "execution_count": 23,
     "metadata": {},
     "output_type": "execute_result"
    }
   ],
   "source": [
    "add(b = 3, a = 1)"
   ]
  },
  {
   "cell_type": "code",
   "execution_count": 24,
   "id": "c34dc9c1",
   "metadata": {},
   "outputs": [],
   "source": [
    "def ma(a, b) :\n",
    "    return a - b"
   ]
  },
  {
   "cell_type": "code",
   "execution_count": 25,
   "id": "81d15773",
   "metadata": {},
   "outputs": [
    {
     "data": {
      "text/plain": [
       "-2"
      ]
     },
     "execution_count": 25,
     "metadata": {},
     "output_type": "execute_result"
    }
   ],
   "source": [
    "ma(a = 5, b = 7)"
   ]
  },
  {
   "cell_type": "code",
   "execution_count": 26,
   "id": "8a322fc0",
   "metadata": {},
   "outputs": [
    {
     "data": {
      "text/plain": [
       "-2"
      ]
     },
     "execution_count": 26,
     "metadata": {},
     "output_type": "execute_result"
    }
   ],
   "source": [
    "ma(b = 7, a = 5)"
   ]
  },
  {
   "cell_type": "code",
   "execution_count": 27,
   "id": "44adb91c",
   "metadata": {},
   "outputs": [
    {
     "data": {
      "text/plain": [
       "-2"
      ]
     },
     "execution_count": 27,
     "metadata": {},
     "output_type": "execute_result"
    }
   ],
   "source": [
    "ma(5, 7)"
   ]
  },
  {
   "cell_type": "code",
   "execution_count": 28,
   "id": "abd6bdbd",
   "metadata": {},
   "outputs": [
    {
     "data": {
      "text/plain": [
       "2"
      ]
     },
     "execution_count": 28,
     "metadata": {},
     "output_type": "execute_result"
    }
   ],
   "source": [
    "ma(7, 5)"
   ]
  },
  {
   "cell_type": "code",
   "execution_count": 30,
   "id": "02e395c4",
   "metadata": {},
   "outputs": [
    {
     "ename": "TypeError",
     "evalue": "ma() takes 2 positional arguments but 3 were given",
     "output_type": "error",
     "traceback": [
      "\u001b[0;31m---------------------------------------------------------------------------\u001b[0m",
      "\u001b[0;31mTypeError\u001b[0m                                 Traceback (most recent call last)",
      "Input \u001b[0;32mIn [30]\u001b[0m, in \u001b[0;36m<cell line: 1>\u001b[0;34m()\u001b[0m\n\u001b[0;32m----> 1\u001b[0m \u001b[43mma\u001b[49m\u001b[43m(\u001b[49m\u001b[38;5;241;43m1\u001b[39;49m\u001b[43m,\u001b[49m\u001b[43m \u001b[49m\u001b[38;5;241;43m2\u001b[39;49m\u001b[43m,\u001b[49m\u001b[43m \u001b[49m\u001b[38;5;241;43m3\u001b[39;49m\u001b[43m)\u001b[49m\n",
      "\u001b[0;31mTypeError\u001b[0m: ma() takes 2 positional arguments but 3 were given"
     ]
    }
   ],
   "source": [
    "ma(1, 2, 3)"
   ]
  },
  {
   "cell_type": "code",
   "execution_count": 31,
   "id": "1b9d9878",
   "metadata": {},
   "outputs": [
    {
     "ename": "TypeError",
     "evalue": "add() takes 2 positional arguments but 3 were given",
     "output_type": "error",
     "traceback": [
      "\u001b[0;31m---------------------------------------------------------------------------\u001b[0m",
      "\u001b[0;31mTypeError\u001b[0m                                 Traceback (most recent call last)",
      "Input \u001b[0;32mIn [31]\u001b[0m, in \u001b[0;36m<cell line: 1>\u001b[0;34m()\u001b[0m\n\u001b[0;32m----> 1\u001b[0m \u001b[43madd\u001b[49m\u001b[43m(\u001b[49m\u001b[38;5;241;43m1\u001b[39;49m\u001b[43m,\u001b[49m\u001b[43m \u001b[49m\u001b[38;5;241;43m2\u001b[39;49m\u001b[43m,\u001b[49m\u001b[43m \u001b[49m\u001b[38;5;241;43m3\u001b[39;49m\u001b[43m)\u001b[49m\n",
      "\u001b[0;31mTypeError\u001b[0m: add() takes 2 positional arguments but 3 were given"
     ]
    }
   ],
   "source": [
    "add(1, 2, 3)"
   ]
  },
  {
   "cell_type": "code",
   "execution_count": 34,
   "id": "e33b5678",
   "metadata": {},
   "outputs": [],
   "source": [
    "def add_many(*args) :\n",
    "    print(args)\n",
    "    result = 0\n",
    "    for i in args :\n",
    "        result = result + i\n",
    "    return result"
   ]
  },
  {
   "cell_type": "code",
   "execution_count": 35,
   "id": "95380283",
   "metadata": {},
   "outputs": [
    {
     "name": "stdout",
     "output_type": "stream",
     "text": [
      "(1, 2, 3, 4, 5, 6)\n"
     ]
    },
    {
     "data": {
      "text/plain": [
       "21"
      ]
     },
     "execution_count": 35,
     "metadata": {},
     "output_type": "execute_result"
    }
   ],
   "source": [
    "add_many(1,2,3,4,5,6)"
   ]
  },
  {
   "cell_type": "code",
   "execution_count": 36,
   "id": "92c0d749",
   "metadata": {},
   "outputs": [],
   "source": [
    "def add_mul(choice, *args) : # choice와 *args(항상 맨 뒤)의 위치가 바뀌면 오류 발생\n",
    "    if choice == \"add\" :\n",
    "        result = 0\n",
    "        for i in args :\n",
    "            result = result + i\n",
    "    elif choice == \"mul\" :\n",
    "        result = 1\n",
    "        for i in args :\n",
    "            result = result * i\n",
    "    return result"
   ]
  },
  {
   "cell_type": "code",
   "execution_count": 37,
   "id": "07fce82d",
   "metadata": {},
   "outputs": [
    {
     "data": {
      "text/plain": [
       "118"
      ]
     },
     "execution_count": 37,
     "metadata": {},
     "output_type": "execute_result"
    }
   ],
   "source": [
    "add_mul('add', 1,2,3,3,4,4,5,6,67,7,8,8)"
   ]
  },
  {
   "cell_type": "code",
   "execution_count": 38,
   "id": "f560e9bb",
   "metadata": {},
   "outputs": [
    {
     "data": {
      "text/plain": [
       "259338240"
      ]
     },
     "execution_count": 38,
     "metadata": {},
     "output_type": "execute_result"
    }
   ],
   "source": [
    "add_mul('mul', 1,2,3,3,4,4,5,6,67,7,8,8,)"
   ]
  },
  {
   "cell_type": "code",
   "execution_count": 39,
   "id": "61454c18",
   "metadata": {},
   "outputs": [],
   "source": [
    "# 함수에서 return 되는 값은 항상 하나\n",
    "\n",
    "def add_and_mul(a, b) :\n",
    "    return a + b, a * b"
   ]
  },
  {
   "cell_type": "code",
   "execution_count": 40,
   "id": "301b0e3a",
   "metadata": {},
   "outputs": [
    {
     "data": {
      "text/plain": [
       "(8, 12)"
      ]
     },
     "execution_count": 40,
     "metadata": {},
     "output_type": "execute_result"
    }
   ],
   "source": [
    "add_and_mul(2, 6) #하나의 튜플로 반환"
   ]
  },
  {
   "cell_type": "code",
   "execution_count": 41,
   "id": "5c94614d",
   "metadata": {},
   "outputs": [
    {
     "data": {
      "text/plain": [
       "(7, 12)"
      ]
     },
     "execution_count": 41,
     "metadata": {},
     "output_type": "execute_result"
    }
   ],
   "source": [
    "result = add_and_mul(3, 4)\n",
    "result"
   ]
  },
  {
   "cell_type": "code",
   "execution_count": 42,
   "id": "8b7c8bf1",
   "metadata": {},
   "outputs": [],
   "source": [
    "result1, result2 = add_and_mul(3,4)"
   ]
  },
  {
   "cell_type": "code",
   "execution_count": 43,
   "id": "60926bf7",
   "metadata": {},
   "outputs": [
    {
     "name": "stdout",
     "output_type": "stream",
     "text": [
      "7\n",
      "12\n"
     ]
    }
   ],
   "source": [
    "print(result1)\n",
    "print(result2)"
   ]
  },
  {
   "cell_type": "code",
   "execution_count": 44,
   "id": "e2d738d8",
   "metadata": {},
   "outputs": [
    {
     "name": "stdout",
     "output_type": "stream",
     "text": [
      "7\n",
      "12\n"
     ]
    }
   ],
   "source": [
    "result1 = result[0]\n",
    "result2 = result[1]\n",
    "print(result1)\n",
    "print(result2)"
   ]
  },
  {
   "cell_type": "code",
   "execution_count": 45,
   "id": "4079fb75",
   "metadata": {},
   "outputs": [],
   "source": [
    "def add_and_mul(a, b) :\n",
    "    return a + b\n",
    "    return a * b"
   ]
  },
  {
   "cell_type": "code",
   "execution_count": 46,
   "id": "bee8fad3",
   "metadata": {},
   "outputs": [
    {
     "data": {
      "text/plain": [
       "7"
      ]
     },
     "execution_count": 46,
     "metadata": {},
     "output_type": "execute_result"
    }
   ],
   "source": [
    "add_and_mul(5, 2)\n",
    "\n",
    "# add_and_mul(5,2)의 결괏값은 7 하나뿐이다\n",
    "# 두번째 return문인 return a * b는 실행되지 않았다."
   ]
  },
  {
   "cell_type": "code",
   "execution_count": 50,
   "id": "63a05022",
   "metadata": {},
   "outputs": [],
   "source": [
    "def say_nick(nick) :\n",
    "    if nick == '바보' :\n",
    "        return\n",
    "    print('나의 별명은 '+nick+'입니다.')"
   ]
  },
  {
   "cell_type": "code",
   "execution_count": 51,
   "id": "63878f94",
   "metadata": {},
   "outputs": [],
   "source": [
    "say_nick('바보')"
   ]
  },
  {
   "cell_type": "code",
   "execution_count": 52,
   "id": "e1ff2c8d",
   "metadata": {},
   "outputs": [
    {
     "name": "stdout",
     "output_type": "stream",
     "text": [
      "나의 별명은 겸댕이입니다.\n"
     ]
    }
   ],
   "source": [
    "say_nick('겸댕이')"
   ]
  },
  {
   "cell_type": "code",
   "execution_count": 53,
   "id": "bbec288d",
   "metadata": {},
   "outputs": [],
   "source": [
    "def say_myself(name, old, man=True) :\n",
    "    print(\"나의 이름은 \", name, \"입니다.\")\n",
    "    print(\"나이는 \", old, \"살입니다.\")\n",
    "    if man :\n",
    "        print(\"남자입니다.\")\n",
    "    else :\n",
    "        print(\"여자입니다.\")"
   ]
  },
  {
   "cell_type": "code",
   "execution_count": 54,
   "id": "1209c260",
   "metadata": {},
   "outputs": [
    {
     "name": "stdout",
     "output_type": "stream",
     "text": [
      "나의 이름은  파이썬 입니다.\n",
      "나이는  30 살입니다.\n",
      "남자입니다.\n"
     ]
    }
   ],
   "source": [
    "say_myself('파이썬', 30)"
   ]
  },
  {
   "cell_type": "code",
   "execution_count": 55,
   "id": "9e41c240",
   "metadata": {},
   "outputs": [
    {
     "name": "stdout",
     "output_type": "stream",
     "text": [
      "나의 이름은  박응선 입니다.\n",
      "나이는  27 살입니다.\n",
      "여자입니다.\n"
     ]
    }
   ],
   "source": [
    "say_myself('박응선', 27, False)"
   ]
  },
  {
   "cell_type": "code",
   "execution_count": 56,
   "id": "2cdfff95",
   "metadata": {},
   "outputs": [
    {
     "name": "stdout",
     "output_type": "stream",
     "text": [
      "나의 이름은  파이썬 입니다.\n",
      "나이는  30 살입니다.\n",
      "남자입니다.\n"
     ]
    }
   ],
   "source": [
    "say_myself(old = 30, name = '파이썬', man = True)"
   ]
  },
  {
   "cell_type": "code",
   "execution_count": null,
   "id": "abfaf630",
   "metadata": {},
   "outputs": [],
   "source": [
    "def say_myself(name, man=True, old) :\n",
    "    print(\"나의 이름은 \", name, \"입니다.\")\n",
    "    print(\"나이는 \", old, \"살입니다.\")\n",
    "    if man :\n",
    "        print(\"남자입니다.\")\n",
    "    else :\n",
    "        print(\"여자입니다.\")\n",
    "# 위 오류 메시지는 초깃값을 설정해 놓은 매개변수 뒤에 초깃값을 설정해 놓지 않은 매개변수는 사용할 수 없다는 뜻\n",
    "# 이전 함수와 바뀐 부분은 초깃값을 설정한 매개변수의 위치이다\n",
    "# 결론을 미리 말하면 이것은 함수를 실행할 때 오류가 발생"
   ]
  },
  {
   "cell_type": "code",
   "execution_count": 57,
   "id": "64772e9b",
   "metadata": {},
   "outputs": [],
   "source": [
    "a = 1\n",
    "def vartest(a) :\n",
    "    a = a + 1\n",
    "    return a"
   ]
  },
  {
   "cell_type": "code",
   "execution_count": 58,
   "id": "4f4493f9",
   "metadata": {},
   "outputs": [
    {
     "data": {
      "text/plain": [
       "2"
      ]
     },
     "execution_count": 58,
     "metadata": {},
     "output_type": "execute_result"
    }
   ],
   "source": [
    "vartest(a)"
   ]
  },
  {
   "cell_type": "code",
   "execution_count": 59,
   "id": "ae4598b2",
   "metadata": {},
   "outputs": [
    {
     "data": {
      "text/plain": [
       "1"
      ]
     },
     "execution_count": 59,
     "metadata": {},
     "output_type": "execute_result"
    }
   ],
   "source": [
    "a"
   ]
  },
  {
   "cell_type": "code",
   "execution_count": 60,
   "id": "0332e49a",
   "metadata": {},
   "outputs": [
    {
     "name": "stdout",
     "output_type": "stream",
     "text": [
      "1\n"
     ]
    }
   ],
   "source": [
    "# global 명령어 사용하기\n",
    "\n",
    "a = 1\n",
    "print(a)"
   ]
  },
  {
   "cell_type": "code",
   "execution_count": 61,
   "id": "0c03a5c8",
   "metadata": {},
   "outputs": [],
   "source": [
    "def vartest() :\n",
    "    global a\n",
    "    a = a + 1"
   ]
  },
  {
   "cell_type": "code",
   "execution_count": 62,
   "id": "28f7a3b4",
   "metadata": {},
   "outputs": [],
   "source": [
    "vartest()"
   ]
  },
  {
   "cell_type": "code",
   "execution_count": 63,
   "id": "e35c8e88",
   "metadata": {},
   "outputs": [
    {
     "name": "stdout",
     "output_type": "stream",
     "text": [
      "2\n"
     ]
    }
   ],
   "source": [
    "print(a)"
   ]
  },
  {
   "cell_type": "code",
   "execution_count": 65,
   "id": "48e9e408",
   "metadata": {},
   "outputs": [
    {
     "data": {
      "text/plain": [
       "88"
      ]
     },
     "execution_count": 65,
     "metadata": {},
     "output_type": "execute_result"
    }
   ],
   "source": [
    "a = [1,3,4,5,67,8]\n",
    "\n",
    "def add(lst) :\n",
    "    total = 0\n",
    "    for i in lst :\n",
    "        total = total + i\n",
    "    return total\n",
    "\n",
    "add(a)"
   ]
  },
  {
   "cell_type": "code",
   "execution_count": 66,
   "id": "4d47190b",
   "metadata": {},
   "outputs": [],
   "source": [
    "# lambda 매개변수1, 매개변수2 ... : 매개변수를 이용한 표현식\n",
    "\n",
    "add = lambda x,y : x + y"
   ]
  },
  {
   "cell_type": "code",
   "execution_count": 67,
   "id": "90614af1",
   "metadata": {},
   "outputs": [
    {
     "data": {
      "text/plain": [
       "6"
      ]
     },
     "execution_count": 67,
     "metadata": {},
     "output_type": "execute_result"
    }
   ],
   "source": [
    "add(2,4) # lambda 예약어로 만든 함수는 return 명령어가 없어도 결괏값을 돌려준다."
   ]
  }
 ],
 "metadata": {
  "kernelspec": {
   "display_name": "Python 3 (ipykernel)",
   "language": "python",
   "name": "python3"
  },
  "language_info": {
   "codemirror_mode": {
    "name": "ipython",
    "version": 3
   },
   "file_extension": ".py",
   "mimetype": "text/x-python",
   "name": "python",
   "nbconvert_exporter": "python",
   "pygments_lexer": "ipython3",
   "version": "3.9.12"
  }
 },
 "nbformat": 4,
 "nbformat_minor": 5
}
