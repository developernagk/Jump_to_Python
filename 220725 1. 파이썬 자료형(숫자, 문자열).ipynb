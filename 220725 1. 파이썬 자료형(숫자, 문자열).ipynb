{
 "cells": [
  {
   "cell_type": "markdown",
   "id": "81c686cd",
   "metadata": {},
   "source": [
    "설명을 달 수 있는 창(Markdown), 텍스트 편집기"
   ]
  },
  {
   "cell_type": "code",
   "execution_count": 1,
   "id": "7956aec7",
   "metadata": {},
   "outputs": [],
   "source": [
    "# 메시지를 입력하면\n",
    "# 명령코드가 아닌 설명문 주석"
   ]
  },
  {
   "cell_type": "code",
   "execution_count": 2,
   "id": "f4c8fb59",
   "metadata": {},
   "outputs": [],
   "source": [
    "# 숫자형: 정수로 표현이 된다.\n",
    "# 산술연산이 가능하다. +,-,*,/,//,**\n",
    "\n",
    "a = 567"
   ]
  },
  {
   "cell_type": "code",
   "execution_count": 3,
   "id": "f795d14c",
   "metadata": {},
   "outputs": [
    {
     "data": {
      "text/plain": [
       "567"
      ]
     },
     "execution_count": 3,
     "metadata": {},
     "output_type": "execute_result"
    }
   ],
   "source": [
    "a # a는 567을 가르키는 변수"
   ]
  },
  {
   "cell_type": "code",
   "execution_count": 4,
   "id": "dbc6ce8d",
   "metadata": {},
   "outputs": [
    {
     "data": {
      "text/plain": [
       "'a'"
      ]
     },
     "execution_count": 4,
     "metadata": {},
     "output_type": "execute_result"
    }
   ],
   "source": [
    "'a'"
   ]
  },
  {
   "cell_type": "code",
   "execution_count": 6,
   "id": "cd2d4e61",
   "metadata": {},
   "outputs": [
    {
     "data": {
      "text/plain": [
       "'a'"
      ]
     },
     "execution_count": 6,
     "metadata": {},
     "output_type": "execute_result"
    }
   ],
   "source": [
    "\"a\""
   ]
  },
  {
   "cell_type": "code",
   "execution_count": 7,
   "id": "604d20f5",
   "metadata": {},
   "outputs": [
    {
     "data": {
      "text/plain": [
       "612"
      ]
     },
     "execution_count": 7,
     "metadata": {},
     "output_type": "execute_result"
    }
   ],
   "source": [
    "a + 45 # 변수 a는 일반 정수와 연산이 가능하다.(a는 정수 567이기 때문)"
   ]
  },
  {
   "cell_type": "code",
   "execution_count": 8,
   "id": "ef87a08e",
   "metadata": {},
   "outputs": [],
   "source": [
    "a = -123"
   ]
  },
  {
   "cell_type": "code",
   "execution_count": 9,
   "id": "045098c8",
   "metadata": {},
   "outputs": [
    {
     "data": {
      "text/plain": [
       "-123"
      ]
     },
     "execution_count": 9,
     "metadata": {},
     "output_type": "execute_result"
    }
   ],
   "source": [
    "a"
   ]
  },
  {
   "cell_type": "code",
   "execution_count": 10,
   "id": "3c46dde6",
   "metadata": {},
   "outputs": [
    {
     "data": {
      "text/plain": [
       "0"
      ]
     },
     "execution_count": 10,
     "metadata": {},
     "output_type": "execute_result"
    }
   ],
   "source": [
    "a - a"
   ]
  },
  {
   "cell_type": "code",
   "execution_count": 11,
   "id": "19de724a",
   "metadata": {},
   "outputs": [],
   "source": [
    "a = 123\n",
    "b = 567"
   ]
  },
  {
   "cell_type": "code",
   "execution_count": 12,
   "id": "bcadc8e3",
   "metadata": {},
   "outputs": [
    {
     "data": {
      "text/plain": [
       "690"
      ]
     },
     "execution_count": 12,
     "metadata": {},
     "output_type": "execute_result"
    }
   ],
   "source": [
    "a + b"
   ]
  },
  {
   "cell_type": "code",
   "execution_count": 13,
   "id": "b1d7a6cd",
   "metadata": {},
   "outputs": [
    {
     "data": {
      "text/plain": [
       "-444"
      ]
     },
     "execution_count": 13,
     "metadata": {},
     "output_type": "execute_result"
    }
   ],
   "source": [
    "a - b"
   ]
  },
  {
   "cell_type": "code",
   "execution_count": 14,
   "id": "98d70069",
   "metadata": {},
   "outputs": [],
   "source": [
    "# 정수형에는 음수, 양수가 들어갈 수 있다."
   ]
  },
  {
   "cell_type": "code",
   "execution_count": 15,
   "id": "70e87ef7",
   "metadata": {},
   "outputs": [],
   "source": [
    "#실수형: 소수자리가 수\n",
    "a = 1.5"
   ]
  },
  {
   "cell_type": "code",
   "execution_count": 16,
   "id": "3fab7f8b",
   "metadata": {},
   "outputs": [
    {
     "data": {
      "text/plain": [
       "1.5"
      ]
     },
     "execution_count": 16,
     "metadata": {},
     "output_type": "execute_result"
    }
   ],
   "source": [
    "a"
   ]
  },
  {
   "cell_type": "code",
   "execution_count": 17,
   "id": "eb4f4c74",
   "metadata": {},
   "outputs": [],
   "source": [
    "b = 4.5"
   ]
  },
  {
   "cell_type": "code",
   "execution_count": 18,
   "id": "46cd3e96",
   "metadata": {},
   "outputs": [
    {
     "data": {
      "text/plain": [
       "6.0"
      ]
     },
     "execution_count": 18,
     "metadata": {},
     "output_type": "execute_result"
    }
   ],
   "source": [
    "a + b"
   ]
  },
  {
   "cell_type": "code",
   "execution_count": 19,
   "id": "45c0276d",
   "metadata": {},
   "outputs": [
    {
     "data": {
      "text/plain": [
       "6.75"
      ]
     },
     "execution_count": 19,
     "metadata": {},
     "output_type": "execute_result"
    }
   ],
   "source": [
    "a * b"
   ]
  },
  {
   "cell_type": "code",
   "execution_count": 20,
   "id": "db5ee94a",
   "metadata": {},
   "outputs": [
    {
     "data": {
      "text/plain": [
       "6"
      ]
     },
     "execution_count": 20,
     "metadata": {},
     "output_type": "execute_result"
    }
   ],
   "source": [
    "int(a + b)"
   ]
  },
  {
   "cell_type": "code",
   "execution_count": 21,
   "id": "ef94fc5b",
   "metadata": {},
   "outputs": [],
   "source": [
    "# 42400000000.0\n",
    "a = 4.24E10 # 알파벳 'E'는 'e'로도 사용 가능"
   ]
  },
  {
   "cell_type": "code",
   "execution_count": 22,
   "id": "a628a5c3",
   "metadata": {},
   "outputs": [
    {
     "data": {
      "text/plain": [
       "42400000000.0"
      ]
     },
     "execution_count": 22,
     "metadata": {},
     "output_type": "execute_result"
    }
   ],
   "source": [
    "a"
   ]
  },
  {
   "cell_type": "code",
   "execution_count": 25,
   "id": "cb415e32",
   "metadata": {},
   "outputs": [
    {
     "data": {
      "text/plain": [
       "0.00424"
      ]
     },
     "execution_count": 25,
     "metadata": {},
     "output_type": "execute_result"
    }
   ],
   "source": [
    "b = 4.24E-3\n",
    "b"
   ]
  },
  {
   "cell_type": "code",
   "execution_count": 26,
   "id": "5116ce73",
   "metadata": {},
   "outputs": [
    {
     "data": {
      "text/plain": [
       "127"
      ]
     },
     "execution_count": 26,
     "metadata": {},
     "output_type": "execute_result"
    }
   ],
   "source": [
    "# 8진수\n",
    "a = 0o177 # 숫자 0과 o를 같이 써줌\n",
    "a"
   ]
  },
  {
   "cell_type": "code",
   "execution_count": 27,
   "id": "b6f45001",
   "metadata": {},
   "outputs": [
    {
     "data": {
      "text/plain": [
       "2303"
      ]
     },
     "execution_count": 27,
     "metadata": {},
     "output_type": "execute_result"
    }
   ],
   "source": [
    "# 16진수\n",
    "a = 0x8ff # 숫자 0과 x를 같이 써줌\n",
    "a"
   ]
  },
  {
   "cell_type": "code",
   "execution_count": 29,
   "id": "830c8d00",
   "metadata": {},
   "outputs": [
    {
     "data": {
      "text/plain": [
       "10"
      ]
     },
     "execution_count": 29,
     "metadata": {},
     "output_type": "execute_result"
    }
   ],
   "source": [
    "# 2진수\n",
    "a = 0b01010 # 숫자 0과 알파벳 b를 같이 써줌\n",
    "a"
   ]
  },
  {
   "cell_type": "code",
   "execution_count": 30,
   "id": "bf0d4998",
   "metadata": {},
   "outputs": [],
   "source": [
    "# 사칙연산\n",
    "a = 3\n",
    "b = 6"
   ]
  },
  {
   "cell_type": "code",
   "execution_count": 31,
   "id": "5969d72f",
   "metadata": {},
   "outputs": [
    {
     "data": {
      "text/plain": [
       "9"
      ]
     },
     "execution_count": 31,
     "metadata": {},
     "output_type": "execute_result"
    }
   ],
   "source": [
    "a + b"
   ]
  },
  {
   "cell_type": "code",
   "execution_count": 32,
   "id": "90f430e6",
   "metadata": {},
   "outputs": [
    {
     "data": {
      "text/plain": [
       "-3"
      ]
     },
     "execution_count": 32,
     "metadata": {},
     "output_type": "execute_result"
    }
   ],
   "source": [
    "a - b"
   ]
  },
  {
   "cell_type": "code",
   "execution_count": 33,
   "id": "921dd4d2",
   "metadata": {},
   "outputs": [
    {
     "data": {
      "text/plain": [
       "18"
      ]
     },
     "execution_count": 33,
     "metadata": {},
     "output_type": "execute_result"
    }
   ],
   "source": [
    "a * b"
   ]
  },
  {
   "cell_type": "code",
   "execution_count": 34,
   "id": "b92808db",
   "metadata": {},
   "outputs": [
    {
     "data": {
      "text/plain": [
       "0.5"
      ]
     },
     "execution_count": 34,
     "metadata": {},
     "output_type": "execute_result"
    }
   ],
   "source": [
    "a / b"
   ]
  },
  {
   "cell_type": "code",
   "execution_count": 35,
   "id": "f967e2be",
   "metadata": {},
   "outputs": [
    {
     "data": {
      "text/plain": [
       "6"
      ]
     },
     "execution_count": 35,
     "metadata": {},
     "output_type": "execute_result"
    }
   ],
   "source": [
    "a + 3 # 변수에 할당된 값이 숫자형이라면 숫자형과 연산 가능"
   ]
  },
  {
   "cell_type": "code",
   "execution_count": 36,
   "id": "db67c557",
   "metadata": {},
   "outputs": [
    {
     "data": {
      "text/plain": [
       "729"
      ]
     },
     "execution_count": 36,
     "metadata": {},
     "output_type": "execute_result"
    }
   ],
   "source": [
    "# 제곱을 나타내는 ** 연산자\n",
    "\n",
    "a ** b"
   ]
  },
  {
   "cell_type": "code",
   "execution_count": 37,
   "id": "75f90b71",
   "metadata": {},
   "outputs": [
    {
     "data": {
      "text/plain": [
       "1"
      ]
     },
     "execution_count": 37,
     "metadata": {},
     "output_type": "execute_result"
    }
   ],
   "source": [
    "# 나눗셈 후 나머지를 반환하는 % 연산자\n",
    "\n",
    "7 % 3"
   ]
  },
  {
   "cell_type": "code",
   "execution_count": 38,
   "id": "82760040",
   "metadata": {},
   "outputs": [
    {
     "data": {
      "text/plain": [
       "3"
      ]
     },
     "execution_count": 38,
     "metadata": {},
     "output_type": "execute_result"
    }
   ],
   "source": [
    "3 % 7"
   ]
  },
  {
   "cell_type": "code",
   "execution_count": 39,
   "id": "8bd0eb67",
   "metadata": {},
   "outputs": [
    {
     "data": {
      "text/plain": [
       "1"
      ]
     },
     "execution_count": 39,
     "metadata": {},
     "output_type": "execute_result"
    }
   ],
   "source": [
    "# 나눗셈 후 몫을 반환하는 // 연산자\n",
    "\n",
    "7 // 4"
   ]
  },
  {
   "cell_type": "code",
   "execution_count": 40,
   "id": "e1a5b6a9",
   "metadata": {},
   "outputs": [
    {
     "data": {
      "text/plain": [
       "\"Pyhton's favorite food is perl\""
      ]
     },
     "execution_count": 40,
     "metadata": {},
     "output_type": "execute_result"
    }
   ],
   "source": [
    "# 문자열 안에 작은따옴표나 포함시키고 싶을 때\n",
    "\n",
    "food = \"Pyhton's favorite food is perl\" # 큰따옴표로 열고 닫기\n",
    "food"
   ]
  },
  {
   "cell_type": "code",
   "execution_count": 42,
   "id": "aad06775",
   "metadata": {},
   "outputs": [
    {
     "data": {
      "text/plain": [
       "'\"Pythons is very easy.\" he says.'"
      ]
     },
     "execution_count": 42,
     "metadata": {},
     "output_type": "execute_result"
    }
   ],
   "source": [
    "say  = '\"Pythons is very easy.\" he says.'\n",
    "say"
   ]
  },
  {
   "cell_type": "code",
   "execution_count": 43,
   "id": "67a833ea",
   "metadata": {},
   "outputs": [
    {
     "data": {
      "text/plain": [
       "\"Python's favorite food is perl\""
      ]
     },
     "execution_count": 43,
     "metadata": {},
     "output_type": "execute_result"
    }
   ],
   "source": [
    "# 백슬래시(\\)를 사용해서 작은따옴표(')와 큰따옴표(\")를\n",
    "# 문자열에 포함시키기\n",
    "\n",
    "food = 'Python\\'s favorite food is perl'\n",
    "food"
   ]
  },
  {
   "cell_type": "code",
   "execution_count": 75,
   "id": "8b9a5074",
   "metadata": {},
   "outputs": [
    {
     "data": {
      "text/plain": [
       "'\"Python is very easy.\" he says'"
      ]
     },
     "execution_count": 75,
     "metadata": {},
     "output_type": "execute_result"
    }
   ],
   "source": [
    "say = '\\\"Python is very easy.\\\" he says'\n",
    "say"
   ]
  },
  {
   "cell_type": "code",
   "execution_count": 44,
   "id": "2f323bf8",
   "metadata": {},
   "outputs": [
    {
     "data": {
      "text/plain": [
       "'Life is too short\\nYou need python'"
      ]
     },
     "execution_count": 44,
     "metadata": {},
     "output_type": "execute_result"
    }
   ],
   "source": [
    "# 1. 줄을 바꾸기 위한 이스케이프 코드 \\n 삽입하기\n",
    "\n",
    "multiline = \"Life is too short\\nYou need python\"\n",
    "multiline"
   ]
  },
  {
   "cell_type": "code",
   "execution_count": 45,
   "id": "6cc6744d",
   "metadata": {},
   "outputs": [
    {
     "name": "stdout",
     "output_type": "stream",
     "text": [
      "Life is too short\n",
      "You need python\n"
     ]
    }
   ],
   "source": [
    "print(multiline)"
   ]
  },
  {
   "cell_type": "code",
   "execution_count": 46,
   "id": "468a08ca",
   "metadata": {},
   "outputs": [
    {
     "data": {
      "text/plain": [
       "'Life is too short\\nYou need pythone'"
      ]
     },
     "execution_count": 46,
     "metadata": {},
     "output_type": "execute_result"
    }
   ],
   "source": [
    "# 연속된 작은따옴표 3개 (''') 또는 큰따옴표 3개(\"\"\") 사용하기\n",
    "\n",
    "multiline = \"\"\"Life is too short\n",
    "You need pythone\"\"\"\n",
    "multiline"
   ]
  },
  {
   "cell_type": "code",
   "execution_count": 49,
   "id": "99e95bc4",
   "metadata": {},
   "outputs": [
    {
     "data": {
      "text/plain": [
       "'Python is fun!'"
      ]
     },
     "execution_count": 49,
     "metadata": {},
     "output_type": "execute_result"
    }
   ],
   "source": [
    "# 문자열 더해서 연결하기(Concatenation)\n",
    "\n",
    "head = \"Python\"\n",
    "tail = \" is fun!\"\n",
    "head + tail"
   ]
  },
  {
   "cell_type": "code",
   "execution_count": 50,
   "id": "dcd8b195",
   "metadata": {},
   "outputs": [
    {
     "data": {
      "text/plain": [
       "'PythonPythonPython'"
      ]
     },
     "execution_count": 50,
     "metadata": {},
     "output_type": "execute_result"
    }
   ],
   "source": [
    "# 문자열 곱하기\n",
    "\n",
    "head * 3"
   ]
  },
  {
   "cell_type": "code",
   "execution_count": 51,
   "id": "cd491caa",
   "metadata": {},
   "outputs": [
    {
     "name": "stdout",
     "output_type": "stream",
     "text": [
      "--------------------------------------------------\n"
     ]
    }
   ],
   "source": [
    "print(\"-\" * 50)"
   ]
  },
  {
   "cell_type": "code",
   "execution_count": 52,
   "id": "14881c7d",
   "metadata": {},
   "outputs": [
    {
     "name": "stdout",
     "output_type": "stream",
     "text": [
      "==================================================\n",
      "My Program\n",
      "==================================================\n"
     ]
    }
   ],
   "source": [
    "# 문자열 곱하기 응용\n",
    "\n",
    "print(\"=\" * 50)\n",
    "print(\"My Program\")\n",
    "print(\"=\" * 50)"
   ]
  },
  {
   "cell_type": "code",
   "execution_count": 53,
   "id": "d505ffbe",
   "metadata": {},
   "outputs": [],
   "source": [
    "# 프로그래밍 언어는 숫자를 0부터 센다\n",
    "# 문자열 인덱싱, 슬라이싱\n",
    "\n",
    "a = \"Life is too short, You need python\"\n",
    "#    0123456789012345678901234567890123\n",
    "#              1         2         3"
   ]
  },
  {
   "cell_type": "code",
   "execution_count": 54,
   "id": "d78b466f",
   "metadata": {},
   "outputs": [
    {
     "data": {
      "text/plain": [
       "'t'"
      ]
     },
     "execution_count": 54,
     "metadata": {},
     "output_type": "execute_result"
    }
   ],
   "source": [
    "a[8]"
   ]
  },
  {
   "cell_type": "code",
   "execution_count": 55,
   "id": "6a13a19f",
   "metadata": {},
   "outputs": [
    {
     "data": {
      "text/plain": [
       "'e'"
      ]
     },
     "execution_count": 55,
     "metadata": {},
     "output_type": "execute_result"
    }
   ],
   "source": [
    "a[24]"
   ]
  },
  {
   "cell_type": "code",
   "execution_count": 56,
   "id": "7e1eb8ef",
   "metadata": {},
   "outputs": [
    {
     "data": {
      "text/plain": [
       "'n'"
      ]
     },
     "execution_count": 56,
     "metadata": {},
     "output_type": "execute_result"
    }
   ],
   "source": [
    "a[33]"
   ]
  },
  {
   "cell_type": "code",
   "execution_count": 57,
   "id": "7fa30ddb",
   "metadata": {},
   "outputs": [
    {
     "data": {
      "text/plain": [
       "'n'"
      ]
     },
     "execution_count": 57,
     "metadata": {},
     "output_type": "execute_result"
    }
   ],
   "source": [
    "a[-1]"
   ]
  },
  {
   "cell_type": "code",
   "execution_count": 58,
   "id": "c2eb6084",
   "metadata": {},
   "outputs": [
    {
     "data": {
      "text/plain": [
       "'y'"
      ]
     },
     "execution_count": 58,
     "metadata": {},
     "output_type": "execute_result"
    }
   ],
   "source": [
    "a[-5]"
   ]
  },
  {
   "cell_type": "code",
   "execution_count": 59,
   "id": "6fc59fe3",
   "metadata": {},
   "outputs": [
    {
     "data": {
      "text/plain": [
       "'Life'"
      ]
     },
     "execution_count": 59,
     "metadata": {},
     "output_type": "execute_result"
    }
   ],
   "source": [
    "# 슬라이싱\n",
    "\n",
    "# a = \"Life is too short, You need python\"\n",
    "#      0123456789012345678901234567890123\n",
    "#                1         2         3\n",
    "b = a[0] + a[1] + a[2] + a[3]\n",
    "b"
   ]
  },
  {
   "cell_type": "code",
   "execution_count": 60,
   "id": "a2aa758e",
   "metadata": {},
   "outputs": [
    {
     "data": {
      "text/plain": [
       "'Life is too short'"
      ]
     },
     "execution_count": 60,
     "metadata": {},
     "output_type": "execute_result"
    }
   ],
   "source": [
    "c = a[0 : 17]\n",
    "c"
   ]
  },
  {
   "cell_type": "code",
   "execution_count": 62,
   "id": "3cb3a1a2",
   "metadata": {},
   "outputs": [
    {
     "data": {
      "text/plain": [
       "'Life is too short'"
      ]
     },
     "execution_count": 62,
     "metadata": {},
     "output_type": "execute_result"
    }
   ],
   "source": [
    "c = a[ : 17]\n",
    "c"
   ]
  },
  {
   "cell_type": "code",
   "execution_count": 64,
   "id": "a90a9c2c",
   "metadata": {},
   "outputs": [
    {
     "data": {
      "text/plain": [
       "'You need python'"
      ]
     },
     "execution_count": 64,
     "metadata": {},
     "output_type": "execute_result"
    }
   ],
   "source": [
    "c = a[19 : 34]\n",
    "c"
   ]
  },
  {
   "cell_type": "code",
   "execution_count": 66,
   "id": "2cf73216",
   "metadata": {},
   "outputs": [
    {
     "data": {
      "text/plain": [
       "'Life is too short, You need python'"
      ]
     },
     "execution_count": 66,
     "metadata": {},
     "output_type": "execute_result"
    }
   ],
   "source": [
    "c = a\n",
    "c"
   ]
  },
  {
   "cell_type": "code",
   "execution_count": 67,
   "id": "be262426",
   "metadata": {},
   "outputs": [
    {
     "data": {
      "text/plain": [
       "'Life is too short, You need python'"
      ]
     },
     "execution_count": 67,
     "metadata": {},
     "output_type": "execute_result"
    }
   ],
   "source": [
    "c = a[ : ]\n",
    "c"
   ]
  },
  {
   "cell_type": "code",
   "execution_count": 68,
   "id": "153c823d",
   "metadata": {},
   "outputs": [],
   "source": [
    "# 문자열 슬라이싱의 예\n",
    "\n",
    "a = '20010331Rainy'\n",
    "# date라는 변수에 a에 있는 20010331만 슬라이싱해서 할당\n",
    "# weather라는 변수에 a에 있는 Rainy만 슬라이싱해서 할당"
   ]
  },
  {
   "cell_type": "code",
   "execution_count": 69,
   "id": "b1ec2f3c",
   "metadata": {},
   "outputs": [],
   "source": [
    "date = a[ : 8]\n",
    "weather = a[8 : ]"
   ]
  },
  {
   "cell_type": "code",
   "execution_count": 70,
   "id": "2b079604",
   "metadata": {},
   "outputs": [
    {
     "data": {
      "text/plain": [
       "'20010331'"
      ]
     },
     "execution_count": 70,
     "metadata": {},
     "output_type": "execute_result"
    }
   ],
   "source": [
    "date"
   ]
  },
  {
   "cell_type": "code",
   "execution_count": 71,
   "id": "01371c27",
   "metadata": {},
   "outputs": [
    {
     "data": {
      "text/plain": [
       "'Rainy'"
      ]
     },
     "execution_count": 71,
     "metadata": {},
     "output_type": "execute_result"
    }
   ],
   "source": [
    "weather"
   ]
  },
  {
   "cell_type": "code",
   "execution_count": 76,
   "id": "8366746d",
   "metadata": {},
   "outputs": [
    {
     "name": "stdout",
     "output_type": "stream",
     "text": [
      "year =  2001\n",
      "month =  03\n",
      "day =  31\n",
      "weather =  Rainy\n"
     ]
    }
   ],
   "source": [
    "# 문자열 슬라이싱의 예\n",
    "\n",
    "a = '20010331Rainy'\n",
    "\n",
    "\n",
    "# 년, 월, 일, 날씨로 나눠보세요\n",
    "year = a[0 : 4]\n",
    "month = a[4 : 6]\n",
    "day = a[6 : 8]\n",
    "weather = a[8 : ]\n",
    "\n",
    "print(\"year = \", year)\n",
    "print(\"month = \", month)\n",
    "print(\"day = \", day)\n",
    "print(\"weather = \", weather)"
   ]
  },
  {
   "cell_type": "code",
   "execution_count": 77,
   "id": "346b9e4e",
   "metadata": {},
   "outputs": [
    {
     "data": {
      "text/plain": [
       "'나는 사과를 3개 먹었습니다'"
      ]
     },
     "execution_count": 77,
     "metadata": {},
     "output_type": "execute_result"
    }
   ],
   "source": [
    "# 숫자 대입\n",
    "\n",
    "\"나는 사과를 %d개 먹었습니다\"%3"
   ]
  },
  {
   "cell_type": "code",
   "execution_count": 78,
   "id": "ce3034f0",
   "metadata": {},
   "outputs": [
    {
     "data": {
      "text/plain": [
       "'나는 사과를 5개 먹었습니다'"
      ]
     },
     "execution_count": 78,
     "metadata": {},
     "output_type": "execute_result"
    }
   ],
   "source": [
    "\"나는 사과를 %d개 먹었습니다\"%(3 + 2)"
   ]
  },
  {
   "cell_type": "code",
   "execution_count": 79,
   "id": "e71e6589",
   "metadata": {},
   "outputs": [
    {
     "data": {
      "text/plain": [
       "'나는 사과를 5개 먹었습니다'"
      ]
     },
     "execution_count": 79,
     "metadata": {},
     "output_type": "execute_result"
    }
   ],
   "source": [
    "eat = 5\n",
    "\"나는 사과를 %d개 먹었습니다\"%eat"
   ]
  },
  {
   "cell_type": "code",
   "execution_count": 82,
   "id": "44f712a5",
   "metadata": {},
   "outputs": [
    {
     "data": {
      "text/plain": [
       "'나는 사과를 다섯개 먹었습니다'"
      ]
     },
     "execution_count": 82,
     "metadata": {},
     "output_type": "execute_result"
    }
   ],
   "source": [
    "\"나는 사과를 %s개 먹었습니다\"%'다섯'"
   ]
  },
  {
   "cell_type": "code",
   "execution_count": 83,
   "id": "042fdcf4",
   "metadata": {},
   "outputs": [
    {
     "data": {
      "text/plain": [
       "'나는 오일 동안 사과를 5개 먹었습니다'"
      ]
     },
     "execution_count": 83,
     "metadata": {},
     "output_type": "execute_result"
    }
   ],
   "source": [
    "\"나는 %s일 동안 사과를 %d개 먹었습니다\"%(\"오\", 5)"
   ]
  },
  {
   "cell_type": "code",
   "execution_count": 84,
   "id": "13c8aab2",
   "metadata": {},
   "outputs": [
    {
     "data": {
      "text/plain": [
       "'나는 오일 동안 사과를 10개 먹었습니다'"
      ]
     },
     "execution_count": 84,
     "metadata": {},
     "output_type": "execute_result"
    }
   ],
   "source": [
    "day = \"오\"\n",
    "eat = 10\n",
    "\"나는 %s일 동안 사과를 %d개 먹었습니다\"%(day, eat)"
   ]
  },
  {
   "cell_type": "code",
   "execution_count": 85,
   "id": "1cafcf0c",
   "metadata": {},
   "outputs": [
    {
     "data": {
      "text/plain": [
       "'I have 3 apples'"
      ]
     },
     "execution_count": 85,
     "metadata": {},
     "output_type": "execute_result"
    }
   ],
   "source": [
    "\"I have %s apples\"%3"
   ]
  },
  {
   "cell_type": "code",
   "execution_count": 86,
   "id": "a2a0e5b9",
   "metadata": {},
   "outputs": [
    {
     "data": {
      "text/plain": [
       "'rate is 3.234'"
      ]
     },
     "execution_count": 86,
     "metadata": {},
     "output_type": "execute_result"
    }
   ],
   "source": [
    "\"rate is %s\" % 3.234"
   ]
  },
  {
   "cell_type": "code",
   "execution_count": 87,
   "id": "c0cac10d",
   "metadata": {},
   "outputs": [
    {
     "data": {
      "text/plain": [
       "'        hi'"
      ]
     },
     "execution_count": 87,
     "metadata": {},
     "output_type": "execute_result"
    }
   ],
   "source": [
    "# 정렬과 공백\n",
    "\n",
    "\"%10s\" % \"hi\""
   ]
  },
  {
   "cell_type": "code",
   "execution_count": 88,
   "id": "93f15a3e",
   "metadata": {},
   "outputs": [
    {
     "data": {
      "text/plain": [
       "'hi        '"
      ]
     },
     "execution_count": 88,
     "metadata": {},
     "output_type": "execute_result"
    }
   ],
   "source": [
    "\"%-10s\" % \"hi\""
   ]
  },
  {
   "cell_type": "code",
   "execution_count": 89,
   "id": "196e428a",
   "metadata": {},
   "outputs": [
    {
     "data": {
      "text/plain": [
       "'hi        jane'"
      ]
     },
     "execution_count": 89,
     "metadata": {},
     "output_type": "execute_result"
    }
   ],
   "source": [
    "\"%-10sjane\" % \"hi\""
   ]
  },
  {
   "cell_type": "code",
   "execution_count": 90,
   "id": "74723483",
   "metadata": {},
   "outputs": [
    {
     "data": {
      "text/plain": [
       "'3.1416'"
      ]
     },
     "execution_count": 90,
     "metadata": {},
     "output_type": "execute_result"
    }
   ],
   "source": [
    "# 소수점 자리수 지정\n",
    "\n",
    "\"%0.4f\" % 3.141592"
   ]
  },
  {
   "cell_type": "code",
   "execution_count": 91,
   "id": "9684f608",
   "metadata": {},
   "outputs": [
    {
     "data": {
      "text/plain": [
       "'    3.1416'"
      ]
     },
     "execution_count": 91,
     "metadata": {},
     "output_type": "execute_result"
    }
   ],
   "source": [
    "\"%10.4f\" % 3.141592"
   ]
  },
  {
   "cell_type": "code",
   "execution_count": 92,
   "id": "f7a40b03",
   "metadata": {},
   "outputs": [
    {
     "data": {
      "text/plain": [
       "'I eat 3 apples.'"
      ]
     },
     "execution_count": 92,
     "metadata": {},
     "output_type": "execute_result"
    }
   ],
   "source": [
    "# 숫자 바로 대입하기\n",
    "\n",
    "\"I eat {0} apples.\".format(3)"
   ]
  },
  {
   "cell_type": "code",
   "execution_count": 93,
   "id": "2a1018aa",
   "metadata": {},
   "outputs": [
    {
     "data": {
      "text/plain": [
       "'I eat five apples.'"
      ]
     },
     "execution_count": 93,
     "metadata": {},
     "output_type": "execute_result"
    }
   ],
   "source": [
    "# 문자열 바로 대입하기\n",
    "\n",
    "\"I eat {0} apples.\".format(\"five\")"
   ]
  },
  {
   "cell_type": "code",
   "execution_count": 94,
   "id": "0e2f2fbb",
   "metadata": {},
   "outputs": [
    {
     "data": {
      "text/plain": [
       "'I eat 3 apples.'"
      ]
     },
     "execution_count": 94,
     "metadata": {},
     "output_type": "execute_result"
    }
   ],
   "source": [
    "# 숫자 값을 가진 변수로 대입하기\n",
    "\n",
    "number = 3\n",
    "\"I eat {0} apples.\".format(number)"
   ]
  },
  {
   "cell_type": "code",
   "execution_count": 95,
   "id": "96cd88a5",
   "metadata": {},
   "outputs": [
    {
     "data": {
      "text/plain": [
       "'I eat 10 apples, so I was sick for three days.'"
      ]
     },
     "execution_count": 95,
     "metadata": {},
     "output_type": "execute_result"
    }
   ],
   "source": [
    "# 2개 이상의 값 넣기\n",
    "\n",
    "number = 10\n",
    "day = \"three\"\n",
    "\"I eat {0} apples, so I was sick for {1} days.\".format(number, day)\n",
    "# 2개 이상의 값을 넣을 경우"
   ]
  },
  {
   "cell_type": "code",
   "execution_count": 96,
   "id": "7e44e391",
   "metadata": {},
   "outputs": [
    {
     "data": {
      "text/plain": [
       "'I ate 10 apples, so I was sick for three days.'"
      ]
     },
     "execution_count": 96,
     "metadata": {},
     "output_type": "execute_result"
    }
   ],
   "source": [
    "number = 10\n",
    "day = \"three\"\n",
    "\"I ate {1} apples, so I was sick for {0} days.\".format(day, number)"
   ]
  },
  {
   "cell_type": "code",
   "execution_count": 97,
   "id": "e15e2488",
   "metadata": {},
   "outputs": [
    {
     "data": {
      "text/plain": [
       "'I ate 3 apples, so I was sick for 10 days.'"
      ]
     },
     "execution_count": 97,
     "metadata": {},
     "output_type": "execute_result"
    }
   ],
   "source": [
    "# 이름으로 넣기\n",
    "\n",
    "\"I ate {number} apples, so I was sick for {day} days.\".format(number = 3, day = 10)"
   ]
  },
  {
   "cell_type": "code",
   "execution_count": 99,
   "id": "f963462b",
   "metadata": {},
   "outputs": [
    {
     "data": {
      "text/plain": [
       "'hi        '"
      ]
     },
     "execution_count": 99,
     "metadata": {},
     "output_type": "execute_result"
    }
   ],
   "source": [
    "# 왼쪽 정렬\n",
    "\n",
    "\"{0:<10}\".format(\"hi\")"
   ]
  },
  {
   "cell_type": "code",
   "execution_count": 109,
   "id": "5ecf6868",
   "metadata": {},
   "outputs": [
    {
     "data": {
      "text/plain": [
       "'        hi'"
      ]
     },
     "execution_count": 109,
     "metadata": {},
     "output_type": "execute_result"
    }
   ],
   "source": [
    "# 오른쪽 정렬\n",
    "\n",
    "\"{0:>10}\".format(\"hi\")"
   ]
  },
  {
   "cell_type": "code",
   "execution_count": 110,
   "id": "2afa212e",
   "metadata": {},
   "outputs": [
    {
     "data": {
      "text/plain": [
       "'    hi    '"
      ]
     },
     "execution_count": 110,
     "metadata": {},
     "output_type": "execute_result"
    }
   ],
   "source": [
    "# 가운데 정렬\n",
    "\n",
    "\"{0:^10}\".format(\"hi\")"
   ]
  },
  {
   "cell_type": "code",
   "execution_count": 111,
   "id": "fbec57cd",
   "metadata": {},
   "outputs": [
    {
     "data": {
      "text/plain": [
       "'====hi===='"
      ]
     },
     "execution_count": 111,
     "metadata": {},
     "output_type": "execute_result"
    }
   ],
   "source": [
    "# 공백채우기\n",
    "\n",
    "\"{0:=^10}\".format(\"hi\")"
   ]
  },
  {
   "cell_type": "code",
   "execution_count": 112,
   "id": "a7c2f539",
   "metadata": {},
   "outputs": [
    {
     "data": {
      "text/plain": [
       "'----hi----'"
      ]
     },
     "execution_count": 112,
     "metadata": {},
     "output_type": "execute_result"
    }
   ],
   "source": [
    "# 공백채우기\n",
    "\n",
    "\"{0:-^10}\".format(\"hi\")"
   ]
  },
  {
   "cell_type": "code",
   "execution_count": 100,
   "id": "f1157914",
   "metadata": {},
   "outputs": [
    {
     "data": {
      "text/plain": [
       "'hi!!!!!!!!'"
      ]
     },
     "execution_count": 100,
     "metadata": {},
     "output_type": "execute_result"
    }
   ],
   "source": [
    "\"{0:!<10}\".format(\"hi\")"
   ]
  },
  {
   "cell_type": "code",
   "execution_count": 108,
   "id": "9e08b8c4",
   "metadata": {},
   "outputs": [
    {
     "data": {
      "text/plain": [
       "'나의 이름은 홍길동입니다. 나이는 30입니다.'"
      ]
     },
     "execution_count": 108,
     "metadata": {},
     "output_type": "execute_result"
    }
   ],
   "source": [
    "# 문자열 포매팅\n",
    "\n",
    "name = '홍길동'\n",
    "age = 30\n",
    "f'나의 이름은 {name}입니다. 나이는 {age}입니다.'"
   ]
  },
  {
   "cell_type": "code",
   "execution_count": 101,
   "id": "e2e25658",
   "metadata": {},
   "outputs": [
    {
     "data": {
      "text/plain": [
       "'나의 이름은 홍길동입니다. 난이는 30입니다.'"
      ]
     },
     "execution_count": 101,
     "metadata": {},
     "output_type": "execute_result"
    }
   ],
   "source": [
    "name = \"홍길동\"\n",
    "age = 30\n",
    "'나의 이름은 ' + name + '입니다. 난이는 ' + str(age) + '입니다.'"
   ]
  },
  {
   "cell_type": "code",
   "execution_count": 102,
   "id": "855a7308",
   "metadata": {},
   "outputs": [
    {
     "data": {
      "text/plain": [
       "'나는 내년이면 (age+1)살이 된다.'"
      ]
     },
     "execution_count": 102,
     "metadata": {},
     "output_type": "execute_result"
    }
   ],
   "source": [
    "age = 30\n",
    "f'나는 내년이면 (age+1)살이 된다.'"
   ]
  },
  {
   "cell_type": "code",
   "execution_count": 105,
   "id": "f4ac4211",
   "metadata": {},
   "outputs": [
    {
     "data": {
      "text/plain": [
       "2"
      ]
     },
     "execution_count": 105,
     "metadata": {},
     "output_type": "execute_result"
    }
   ],
   "source": [
    "# 문자열 개수 세기(count()) -> 많이 사용\n",
    "\n",
    "a = 'hobby'\n",
    "a.count('b')"
   ]
  },
  {
   "cell_type": "code",
   "execution_count": 106,
   "id": "adfcb6a3",
   "metadata": {},
   "outputs": [
    {
     "data": {
      "text/plain": [
       "3"
      ]
     },
     "execution_count": 106,
     "metadata": {},
     "output_type": "execute_result"
    }
   ],
   "source": [
    "a = 'Python is the best choice'\n",
    "a.count('t')"
   ]
  },
  {
   "cell_type": "code",
   "execution_count": 107,
   "id": "03c0897b",
   "metadata": {},
   "outputs": [
    {
     "data": {
      "text/plain": [
       "3"
      ]
     },
     "execution_count": 107,
     "metadata": {},
     "output_type": "execute_result"
    }
   ],
   "source": [
    "'Python is the best choice'.count('t')"
   ]
  },
  {
   "cell_type": "code",
   "execution_count": 113,
   "id": "0573aaac",
   "metadata": {},
   "outputs": [
    {
     "data": {
      "text/plain": [
       "7"
      ]
     },
     "execution_count": 113,
     "metadata": {},
     "output_type": "execute_result"
    }
   ],
   "source": [
    "# 문자열에서 해당 텍스트 위치 구하기 -> 많이 사용\n",
    "\n",
    "a = \"Python is the best choice\"\n",
    "a.find('i')"
   ]
  },
  {
   "cell_type": "code",
   "execution_count": 114,
   "id": "3d926756",
   "metadata": {},
   "outputs": [
    {
     "data": {
      "text/plain": [
       "-1"
      ]
     },
     "execution_count": 114,
     "metadata": {},
     "output_type": "execute_result"
    }
   ],
   "source": [
    "a.find('k') # 찾는 문자 없을 경우에 '-1'을 반환"
   ]
  },
  {
   "cell_type": "code",
   "execution_count": 115,
   "id": "a69af690",
   "metadata": {},
   "outputs": [
    {
     "data": {
      "text/plain": [
       "2"
      ]
     },
     "execution_count": 115,
     "metadata": {},
     "output_type": "execute_result"
    }
   ],
   "source": [
    "a.find('t')"
   ]
  },
  {
   "cell_type": "code",
   "execution_count": 116,
   "id": "2d69e359",
   "metadata": {},
   "outputs": [
    {
     "data": {
      "text/plain": [
       "'a,b,c,d'"
      ]
     },
     "execution_count": 116,
     "metadata": {},
     "output_type": "execute_result"
    }
   ],
   "source": [
    "# 문자열 삽입 -> 때때로 사용\n",
    "\n",
    "\",\".join(\"abcd\")"
   ]
  },
  {
   "cell_type": "code",
   "execution_count": 117,
   "id": "be80b3b3",
   "metadata": {},
   "outputs": [
    {
     "data": {
      "text/plain": [
       "'a,b,c,d'"
      ]
     },
     "execution_count": 117,
     "metadata": {},
     "output_type": "execute_result"
    }
   ],
   "source": [
    "\",\".join(['a', 'b', 'c', 'd'])"
   ]
  },
  {
   "cell_type": "code",
   "execution_count": 119,
   "id": "cbf49ff5",
   "metadata": {},
   "outputs": [
    {
     "data": {
      "text/plain": [
       "'abcd'"
      ]
     },
     "execution_count": 119,
     "metadata": {},
     "output_type": "execute_result"
    }
   ],
   "source": [
    "# a, b, c, d\n",
    "# 'abcd'\n",
    "\n",
    "\"\".join(['a', 'b', 'c', 'd'])"
   ]
  },
  {
   "cell_type": "code",
   "execution_count": 120,
   "id": "c3f424bc",
   "metadata": {},
   "outputs": [
    {
     "data": {
      "text/plain": [
       "'a b c d'"
      ]
     },
     "execution_count": 120,
     "metadata": {},
     "output_type": "execute_result"
    }
   ],
   "source": [
    "# \"a b c d\"\n",
    "\n",
    "\" \".join(['a', 'b', 'c', 'd'])"
   ]
  },
  {
   "cell_type": "code",
   "execution_count": 121,
   "id": "983b4611",
   "metadata": {},
   "outputs": [
    {
     "data": {
      "text/plain": [
       "'PYTHON IS THE BEST CHOICE'"
      ]
     },
     "execution_count": 121,
     "metadata": {},
     "output_type": "execute_result"
    }
   ],
   "source": [
    "# 문자를 대문자로 변환\n",
    "\n",
    "a = 'Python is the best choice'\n",
    "a.upper()"
   ]
  },
  {
   "cell_type": "code",
   "execution_count": 122,
   "id": "b7754e77",
   "metadata": {},
   "outputs": [
    {
     "data": {
      "text/plain": [
       "'python is the best choice'"
      ]
     },
     "execution_count": 122,
     "metadata": {},
     "output_type": "execute_result"
    }
   ],
   "source": [
    "# 문자를 소문자로 변환\n",
    "\n",
    "a = 'Python is the best choice'\n",
    "a.lower()"
   ]
  },
  {
   "cell_type": "code",
   "execution_count": 123,
   "id": "ba6e9ccd",
   "metadata": {},
   "outputs": [
    {
     "data": {
      "text/plain": [
       "'hi   '"
      ]
     },
     "execution_count": 123,
     "metadata": {},
     "output_type": "execute_result"
    }
   ],
   "source": [
    "# 왼쪽 공백 지우기(lstrip)\n",
    "\n",
    "a = '   hi   '\n",
    "a.lstrip()"
   ]
  },
  {
   "cell_type": "code",
   "execution_count": 124,
   "id": "3dcccc75",
   "metadata": {},
   "outputs": [
    {
     "data": {
      "text/plain": [
       "'   hi'"
      ]
     },
     "execution_count": 124,
     "metadata": {},
     "output_type": "execute_result"
    }
   ],
   "source": [
    "# 오른쪽 공백 지우기(rstrip)\n",
    "\n",
    "a = '   hi   '\n",
    "a.rstrip()"
   ]
  },
  {
   "cell_type": "code",
   "execution_count": 125,
   "id": "3677a7fe",
   "metadata": {},
   "outputs": [
    {
     "data": {
      "text/plain": [
       "'hi'"
      ]
     },
     "execution_count": 125,
     "metadata": {},
     "output_type": "execute_result"
    }
   ],
   "source": [
    "# 양쪽 공백 지우기(strip)\n",
    "\n",
    "a = '   hi   '\n",
    "a.strip()"
   ]
  },
  {
   "cell_type": "code",
   "execution_count": 126,
   "id": "d787d878",
   "metadata": {},
   "outputs": [
    {
     "data": {
      "text/plain": [
       "'Python is the best choice'"
      ]
     },
     "execution_count": 126,
     "metadata": {},
     "output_type": "execute_result"
    }
   ],
   "source": [
    "a = 'Python is the best choice'\n",
    "a.strip()"
   ]
  },
  {
   "cell_type": "code",
   "execution_count": 127,
   "id": "3f0a3a07",
   "metadata": {},
   "outputs": [
    {
     "data": {
      "text/plain": [
       "'Your leg is too short'"
      ]
     },
     "execution_count": 127,
     "metadata": {},
     "output_type": "execute_result"
    }
   ],
   "source": [
    "# 문자열 바꾸기(replace) -> 많이 사용\n",
    "\n",
    "a = 'Life is too short'\n",
    "a.replace(\"Life\", \"Your leg\")"
   ]
  },
  {
   "cell_type": "code",
   "execution_count": 128,
   "id": "3c804d81",
   "metadata": {},
   "outputs": [
    {
     "data": {
      "text/plain": [
       "'Lifeistooshort'"
      ]
     },
     "execution_count": 128,
     "metadata": {},
     "output_type": "execute_result"
    }
   ],
   "source": [
    "a.replace(\" \", \"\")"
   ]
  },
  {
   "cell_type": "code",
   "execution_count": 130,
   "id": "dd708c3b",
   "metadata": {},
   "outputs": [
    {
     "data": {
      "text/plain": [
       "['Life', 'is', 'too', 'short']"
      ]
     },
     "execution_count": 130,
     "metadata": {},
     "output_type": "execute_result"
    }
   ],
   "source": [
    "# 문자열 나누기(split) -> 많이 사용\n",
    "\n",
    "a = 'Life is too short'\n",
    "a.split()"
   ]
  }
 ],
 "metadata": {
  "kernelspec": {
   "display_name": "Python 3 (ipykernel)",
   "language": "python",
   "name": "python3"
  },
  "language_info": {
   "codemirror_mode": {
    "name": "ipython",
    "version": 3
   },
   "file_extension": ".py",
   "mimetype": "text/x-python",
   "name": "python",
   "nbconvert_exporter": "python",
   "pygments_lexer": "ipython3",
   "version": "3.9.12"
  }
 },
 "nbformat": 4,
 "nbformat_minor": 5
}
