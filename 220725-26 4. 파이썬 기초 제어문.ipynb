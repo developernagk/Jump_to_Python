{
 "cells": [
  {
   "cell_type": "code",
   "execution_count": 1,
   "id": "fd322459",
   "metadata": {},
   "outputs": [
    {
     "name": "stdout",
     "output_type": "stream",
     "text": [
      "자산이\n",
      "5000\n",
      "원 있습니다.\n",
      "감사합니다.\n"
     ]
    }
   ],
   "source": [
    "money = 5000\n",
    "if money >= 4000 :\n",
    "    print(\"자산이\")\n",
    "    print(money)\n",
    "    print(\"원 있습니다.\")\n",
    "print(\"감사합니다.\")"
   ]
  },
  {
   "cell_type": "code",
   "execution_count": 2,
   "id": "40865b0d",
   "metadata": {},
   "outputs": [
    {
     "name": "stdout",
     "output_type": "stream",
     "text": [
      "감사합니다.\n"
     ]
    }
   ],
   "source": [
    "money = 3000\n",
    "if money >= 4000 :\n",
    "    print(\"자산이\")\n",
    "    print(money)\n",
    "    print(\"원 있습니다.\")\n",
    "print(\"감사합니다.\")"
   ]
  },
  {
   "cell_type": "code",
   "execution_count": 3,
   "id": "713442cf",
   "metadata": {},
   "outputs": [
    {
     "name": "stdout",
     "output_type": "stream",
     "text": [
      "숫자를 입력해 주세요 :34\n"
     ]
    },
    {
     "data": {
      "text/plain": [
       "'34'"
      ]
     },
     "execution_count": 3,
     "metadata": {},
     "output_type": "execute_result"
    }
   ],
   "source": [
    "# input()함수와 print()는 반대\n",
    "\n",
    "input(\"숫자를 입력해 주세요 :\")"
   ]
  },
  {
   "cell_type": "code",
   "execution_count": 4,
   "id": "61a020da",
   "metadata": {},
   "outputs": [
    {
     "name": "stdout",
     "output_type": "stream",
     "text": [
      "숫자를 입력해 주세요 : 34\n"
     ]
    },
    {
     "data": {
      "text/plain": [
       "34"
      ]
     },
     "execution_count": 4,
     "metadata": {},
     "output_type": "execute_result"
    }
   ],
   "source": [
    "a = int(input(\"숫자를 입력해 주세요 : \"))\n",
    "a"
   ]
  },
  {
   "cell_type": "code",
   "execution_count": 5,
   "id": "4955cbc7",
   "metadata": {},
   "outputs": [
    {
     "name": "stdout",
     "output_type": "stream",
     "text": [
      "가격을 입력해 주세요 : 4100\n",
      "아아 톨 사이즈를 구입할 수 있습니다.\n"
     ]
    }
   ],
   "source": [
    "money = int(input(\"가격을 입력해 주세요 : \"))\n",
    "\n",
    "if money >= 4100 :\n",
    "    print(\"아아 톨 사이즈를 구입할 수 있습니다.\")"
   ]
  },
  {
   "cell_type": "code",
   "execution_count": 6,
   "id": "b993fa03",
   "metadata": {},
   "outputs": [
    {
     "name": "stdout",
     "output_type": "stream",
     "text": [
      "돈이 500원 이상 있습니다.\n",
      "사과를 구입하세요\n",
      "아니면 귤?\n"
     ]
    }
   ],
   "source": [
    "money = 500\n",
    "if money >= 500 :\n",
    "    print(\"돈이 500원 이상 있습니다.\")\n",
    "    print(\"사과를 구입하세요\")\n",
    "    print(\"아니면 귤?\")"
   ]
  },
  {
   "cell_type": "code",
   "execution_count": 7,
   "id": "ba8451d0",
   "metadata": {},
   "outputs": [
    {
     "name": "stdout",
     "output_type": "stream",
     "text": [
      "자산이 500원보다 작습니다.\n",
      "감사합니다.\n"
     ]
    }
   ],
   "source": [
    "money = 300\n",
    "if money >= 500 :\n",
    "    print(\"자산이 500원보다 크거나 같습니다.\")\n",
    "else :\n",
    "    print(\"자산이 500원보다 작습니다.\")\n",
    "print(\"감사합니다.\")"
   ]
  },
  {
   "cell_type": "code",
   "execution_count": 8,
   "id": "cc5220c0",
   "metadata": {},
   "outputs": [
    {
     "name": "stdout",
     "output_type": "stream",
     "text": [
      "자산이 500원보다 크거나 같습니다.\n",
      "감사합니다.\n"
     ]
    }
   ],
   "source": [
    "money = 500\n",
    "if money >= 500 :\n",
    "    print(\"자산이 500원보다 크거나 같습니다.\")\n",
    "else :\n",
    "    print(\"자산이 500원보다 작습니다.\")\n",
    "print(\"감사합니다.\")"
   ]
  },
  {
   "cell_type": "code",
   "execution_count": 9,
   "id": "356cc074",
   "metadata": {},
   "outputs": [
    {
     "name": "stdout",
     "output_type": "stream",
     "text": [
      "가격을 입력해 주세요 : 4000\n",
      "아아 톨사이즈를 구입할 수 없습니다.\n"
     ]
    }
   ],
   "source": [
    "money = int(input(\"가격을 입력해 주세요 : \"))\n",
    "\n",
    "if money >= 4100 :\n",
    "    print(\"아아 톨 사이즈를 구입할 수 있습니다.\")\n",
    "else :\n",
    "    print(\"아아 톨사이즈를 구입할 수 없습니다.\")"
   ]
  },
  {
   "cell_type": "code",
   "execution_count": 10,
   "id": "5bc4c74b",
   "metadata": {},
   "outputs": [
    {
     "name": "stdout",
     "output_type": "stream",
     "text": [
      "집에 갈 차비에요\n"
     ]
    }
   ],
   "source": [
    "money = 4000\n",
    "if money >= 10000 :\n",
    "    print(\"나에겐 10000원 이상이 있다.\")\n",
    "elif money >= 9000 :\n",
    "    print(\"나에겐 9000원 이상이 있다.\")\n",
    "elif money >= 5000 :\n",
    "    print(\"나에겐 5000원 이상이 있다.\")\n",
    "else :\n",
    "    print(\"집에 갈 차비에요\")"
   ]
  },
  {
   "cell_type": "code",
   "execution_count": 11,
   "id": "091a3458",
   "metadata": {},
   "outputs": [
    {
     "name": "stdout",
     "output_type": "stream",
     "text": [
      "가격을 입력해 주세요 : 4600\n",
      "아아 그란데 사이즈를 구입할 수 있습니다.\n"
     ]
    }
   ],
   "source": [
    "money = int(input(\"가격을 입력해 주세요 : \"))\n",
    "\n",
    "if money >= 4600 :\n",
    "    print(\"아아 그란데 사이즈를 구입할 수 있습니다.\")\n",
    "elif money >= 4100 :\n",
    "    print(\"아아 톨 사이즈를 구입할 수 있습니다.\")\n",
    "else :\n",
    "    print(\"안녕히 가세요.\")"
   ]
  },
  {
   "cell_type": "code",
   "execution_count": 12,
   "id": "a6ceacc5",
   "metadata": {},
   "outputs": [
    {
     "name": "stdout",
     "output_type": "stream",
     "text": [
      "1번 출력 되었습니다.\n",
      "2번 출력 되었습니다.\n",
      "3번 출력 되었습니다.\n",
      "4번 출력 되었습니다.\n",
      "5번 출력 되었습니다.\n",
      "6번 출력 되었습니다.\n",
      "7번 출력 되었습니다.\n",
      "8번 출력 되었습니다.\n",
      "9번 출력 되었습니다.\n",
      "10번 출력 되었습니다.\n"
     ]
    }
   ],
   "source": [
    "i = 1\n",
    "\n",
    "while i <= 10 :\n",
    "    print(f'{i}번 출력 되었습니다.')\n",
    "    i += 1 # i = i + 1"
   ]
  },
  {
   "cell_type": "code",
   "execution_count": 13,
   "id": "fb0aacd8",
   "metadata": {},
   "outputs": [
    {
     "name": "stdout",
     "output_type": "stream",
     "text": [
      "1번 출력 되었습니다.\n",
      "2번 출력 되었습니다.\n",
      "3번 출력 되었습니다.\n",
      "4번 출력 되었습니다.\n",
      "5번 출력 되었습니다.\n",
      "6번 출력 되었습니다.\n"
     ]
    }
   ],
   "source": [
    "i = 0\n",
    "while i <= 10 :\n",
    "    i += 1\n",
    "    if i == 7 :\n",
    "        break\n",
    "    print(f'{i}번 출력 되었습니다.')"
   ]
  },
  {
   "cell_type": "code",
   "execution_count": 14,
   "id": "0614e5a8",
   "metadata": {},
   "outputs": [
    {
     "name": "stdout",
     "output_type": "stream",
     "text": [
      "2 번 출력되었습니다.\n",
      "4 번 출력되었습니다.\n",
      "6 번 출력되었습니다.\n",
      "8 번 출력되었습니다.\n",
      "10 번 출력되었습니다.\n"
     ]
    }
   ],
   "source": [
    "i = 0\n",
    "while i <= 10 :\n",
    "    i += 1\n",
    "    if i % 2 == 1 : # %는 나머지 연산자(나머지만 반환)\n",
    "        continue\n",
    "    print(i, \"번 출력되었습니다.\")"
   ]
  },
  {
   "cell_type": "code",
   "execution_count": null,
   "id": "e64e6574",
   "metadata": {},
   "outputs": [
    {
     "name": "stdout",
     "output_type": "stream",
     "text": [
      "1 번 출력되었습니다.\n"
     ]
    }
   ],
   "source": [
    "i = 0\n",
    "while i <= 10 :\n",
    "    if i % 2 == 1 :\n",
    "        continue\n",
    "    i += 1\n",
    "    print(i, \"번 출력되었습니다.\")"
   ]
  },
  {
   "cell_type": "code",
   "execution_count": 1,
   "id": "5ed415dc",
   "metadata": {},
   "outputs": [
    {
     "name": "stdout",
     "output_type": "stream",
     "text": [
      "금액을 입력해주세요(단위 : 원) :495\n",
      "금액이 부족합니다.\n",
      "금액을 입력해주세요(단위 : 원) :3843\n",
      "상품이 나왔습니다.\n",
      "재고는 4개 입니다.\n",
      "거스름돈 3343원을 받아가세요.\n",
      "금액을 입력해주세요(단위 : 원) :546\n",
      "상품이 나왔습니다.\n",
      "재고는 3개 입니다.\n",
      "거스름돈 46원을 받아가세요.\n",
      "금액을 입력해주세요(단위 : 원) :656\n",
      "상품이 나왔습니다.\n",
      "재고는 2개 입니다.\n",
      "거스름돈 156원을 받아가세요.\n",
      "금액을 입력해주세요(단위 : 원) :456\n",
      "금액이 부족합니다.\n",
      "금액을 입력해주세요(단위 : 원) :765\n",
      "상품이 나왔습니다.\n",
      "재고는 1개 입니다.\n",
      "거스름돈 265원을 받아가세요.\n",
      "금액을 입력해주세요(단위 : 원) :864\n",
      "상품이 나왔습니다.\n",
      "재고는 0개 입니다.\n",
      "거스름돈 364원을 받아가세요.\n",
      "재고가 없습니다. 프로그램을 종료합니다.\n"
     ]
    }
   ],
   "source": [
    "stock = 5\n",
    "\n",
    "while stock > 0 :\n",
    "    money = int(input(\"금액을 입력해주세요(단위 : 원) :\"))\n",
    "    if money == 500 :\n",
    "        print(\"상품이 나왔습니다.\")\n",
    "        stock = stock - 1\n",
    "        print(f'재고는 {stock}개 입니다.')\n",
    "    elif money > 500 :\n",
    "        print(\"상품이 나왔습니다.\")\n",
    "        stock = stock - 1\n",
    "        print(f'재고는 {stock}개 입니다.')\n",
    "        print(f'거스름돈 {money-500}원을 받아가세요.')\n",
    "    else :\n",
    "        print('금액이 부족합니다.')\n",
    "        continue\n",
    "        \n",
    "    if stock == 0 :\n",
    "        print(\"재고가 없습니다. 프로그램을 종료합니다.\")"
   ]
  },
  {
   "cell_type": "code",
   "execution_count": 2,
   "id": "51d921dc",
   "metadata": {},
   "outputs": [
    {
     "name": "stdout",
     "output_type": "stream",
     "text": [
      "166833\n"
     ]
    }
   ],
   "source": [
    "# 1부터 1000 사이의 수의 3의 배수의 합ㅡㄹ 구하기\n",
    "# 결과 166833\n",
    "# 3의 배수란 3과 나누었을 때 나머지가 0\n",
    "\n",
    "result = 0\n",
    "i = 1\n",
    "while i <= 1000 :\n",
    "    if i % 3 == 0 :\n",
    "        result = result + i\n",
    "    i = i + 1\n",
    "print(result)"
   ]
  },
  {
   "cell_type": "code",
   "execution_count": 3,
   "id": "0238082b",
   "metadata": {},
   "outputs": [
    {
     "name": "stdout",
     "output_type": "stream",
     "text": [
      "a 를 출력\n",
      "b 를 출력\n",
      "c 를 출력\n",
      "d 를 출력\n",
      "e 를 출력\n",
      "f 를 출력\n",
      "g 를 출력\n"
     ]
    }
   ],
   "source": [
    "# for 변수 in 순서형 자료 :\n",
    "#    문장\n",
    "\n",
    "lst = ['a', 'b', 'c', 'd', 'e', 'f', 'g']\n",
    "for i in lst :\n",
    "    print(i, '를 출력') # i는 lst[i]"
   ]
  },
  {
   "cell_type": "code",
   "execution_count": 4,
   "id": "36943378",
   "metadata": {},
   "outputs": [
    {
     "name": "stdout",
     "output_type": "stream",
     "text": [
      "2 번 출력 되었습니다.\n",
      "4 번 출력 되었습니다.\n"
     ]
    }
   ],
   "source": [
    "lst = [1,2,3,4,5,6,7,8,9,10]\n",
    "\n",
    "for i in lst :\n",
    "    if i % 2 == 1 :\n",
    "        continue # 다시 for문으로 돌아감\n",
    "    if i == 6 : # elif 가능, 하지만 6 대신 5일 경우에는 다른 결과가 도출될 수 있음\n",
    "        break\n",
    "    print(i, '번 출력 되었습니다.')"
   ]
  },
  {
   "cell_type": "code",
   "execution_count": 5,
   "id": "45d58cf2",
   "metadata": {},
   "outputs": [
    {
     "name": "stdout",
     "output_type": "stream",
     "text": [
      "1\n",
      "2\n",
      "3\n",
      "4\n",
      "5\n",
      "6\n",
      "7\n",
      "8\n",
      "9\n",
      "10\n"
     ]
    }
   ],
   "source": [
    "lst = [1,2,3,4,5,6,7,8,9,10]\n",
    "for i in lst :\n",
    "    print(i)"
   ]
  },
  {
   "cell_type": "code",
   "execution_count": 6,
   "id": "8fd6880c",
   "metadata": {},
   "outputs": [
    {
     "name": "stdout",
     "output_type": "stream",
     "text": [
      "1\n",
      "2\n",
      "3\n",
      "4\n",
      "5\n",
      "6\n",
      "7\n",
      "8\n",
      "9\n",
      "10\n"
     ]
    }
   ],
   "source": [
    "lst = [1,2,3,4,5,6,7,8,9,10]\n",
    "i = 0\n",
    "while i < len(lst) :\n",
    "    print(lst[i])\n",
    "    i += 1"
   ]
  },
  {
   "cell_type": "code",
   "execution_count": 7,
   "id": "5301b8d7",
   "metadata": {},
   "outputs": [
    {
     "name": "stdout",
     "output_type": "stream",
     "text": [
      "[(1, 2), (3, 4), (5, 6)]\n"
     ]
    }
   ],
   "source": [
    "a = [(1,2), (3,4), (5,6)]\n",
    "print(a)"
   ]
  },
  {
   "cell_type": "code",
   "execution_count": 8,
   "id": "d8d72a09",
   "metadata": {},
   "outputs": [
    {
     "name": "stdout",
     "output_type": "stream",
     "text": [
      "3\n",
      "7\n",
      "11\n"
     ]
    }
   ],
   "source": [
    "for (first, last) in a :\n",
    "    print(first + last)"
   ]
  },
  {
   "cell_type": "code",
   "execution_count": 9,
   "id": "31bf64e2",
   "metadata": {},
   "outputs": [
    {
     "name": "stdout",
     "output_type": "stream",
     "text": [
      "first =  1\n",
      "last =  2\n",
      "\n",
      "\n",
      "first =  3\n",
      "last =  4\n",
      "\n",
      "\n",
      "first =  5\n",
      "last =  6\n",
      "\n",
      "\n"
     ]
    }
   ],
   "source": [
    "for (first, last) in a :\n",
    "    print(\"first = \", first)\n",
    "    print(\"last = \", last)\n",
    "    print('\\n')"
   ]
  },
  {
   "cell_type": "code",
   "execution_count": 10,
   "id": "5ba57c5b",
   "metadata": {},
   "outputs": [
    {
     "name": "stdout",
     "output_type": "stream",
     "text": [
      "3\n",
      "7\n",
      "11\n"
     ]
    }
   ],
   "source": [
    "for (i, j) in a :\n",
    "    print(i + j) # 변수명이 바뀌어도 됨"
   ]
  },
  {
   "cell_type": "code",
   "execution_count": 11,
   "id": "3657a5ce",
   "metadata": {},
   "outputs": [
    {
     "name": "stdout",
     "output_type": "stream",
     "text": [
      "0\n",
      "1\n",
      "2\n",
      "3\n",
      "4\n",
      "5\n",
      "6\n",
      "7\n",
      "8\n",
      "9\n"
     ]
    }
   ],
   "source": [
    "# range(시작값(0일경우 생략가능), 끝값, 간격(1일경우 생략가능))\n",
    "\n",
    "for i in range(10) : # for i in range(0, 10, 1) :\n",
    "    print(i)"
   ]
  },
  {
   "cell_type": "code",
   "execution_count": 12,
   "id": "c46e4b71",
   "metadata": {},
   "outputs": [
    {
     "name": "stdout",
     "output_type": "stream",
     "text": [
      "1\n",
      "2\n",
      "3\n",
      "4\n",
      "5\n",
      "6\n",
      "7\n",
      "8\n",
      "9\n"
     ]
    }
   ],
   "source": [
    "for i in range(1, 10) :\n",
    "    print(i)"
   ]
  },
  {
   "cell_type": "code",
   "execution_count": 13,
   "id": "95c780b7",
   "metadata": {},
   "outputs": [
    {
     "data": {
      "text/plain": [
       "range(0, 11)"
      ]
     },
     "execution_count": 13,
     "metadata": {},
     "output_type": "execute_result"
    }
   ],
   "source": [
    "b = range(0, 11, 1)\n",
    "b"
   ]
  },
  {
   "cell_type": "code",
   "execution_count": 14,
   "id": "dff1f091",
   "metadata": {},
   "outputs": [
    {
     "data": {
      "text/plain": [
       "[0, 1, 2, 3, 4, 5, 6, 7, 8, 9, 10]"
      ]
     },
     "execution_count": 14,
     "metadata": {},
     "output_type": "execute_result"
    }
   ],
   "source": [
    "b = list(range(0, 11, 1))\n",
    "b"
   ]
  },
  {
   "cell_type": "code",
   "execution_count": 15,
   "id": "cac11980",
   "metadata": {},
   "outputs": [
    {
     "name": "stdout",
     "output_type": "stream",
     "text": [
      "0\n",
      "2\n",
      "4\n",
      "6\n",
      "8\n"
     ]
    }
   ],
   "source": [
    "# 0부터 10 전까지 2씩 증가\n",
    "\n",
    "for i in range(0, 10, 2) :\n",
    "    print(i)"
   ]
  },
  {
   "cell_type": "code",
   "execution_count": 16,
   "id": "9d479bd3",
   "metadata": {},
   "outputs": [],
   "source": [
    "# 학급의 평균점수 for문 이용\n",
    "\n",
    "A = [70, 60, 55, 75, 95, 90, 80, 80, 85, 100]"
   ]
  },
  {
   "cell_type": "code",
   "execution_count": 18,
   "id": "9e0a4995",
   "metadata": {},
   "outputs": [
    {
     "name": "stdout",
     "output_type": "stream",
     "text": [
      "78.88888888888889\n"
     ]
    }
   ],
   "source": [
    "score_A = 0\n",
    "A = [70, 60, 55, 75, 95, 90, 80, 85, 100]\n",
    "\n",
    "for i in A :\n",
    "    score_A = score_A + i\n",
    "print(score_A / len(A))"
   ]
  },
  {
   "cell_type": "code",
   "execution_count": 19,
   "id": "b06603c6",
   "metadata": {},
   "outputs": [
    {
     "data": {
      "text/plain": [
       "78.88888888888889"
      ]
     },
     "execution_count": 19,
     "metadata": {},
     "output_type": "execute_result"
    }
   ],
   "source": [
    "sum(A) / len(A)"
   ]
  },
  {
   "cell_type": "code",
   "execution_count": 20,
   "id": "09424097",
   "metadata": {},
   "outputs": [
    {
     "name": "stdout",
     "output_type": "stream",
     "text": [
      "0 2 4 6 8 "
     ]
    }
   ],
   "source": [
    "for i in range(0, 10, 2) :\n",
    "    print(i, end=\" \")"
   ]
  },
  {
   "cell_type": "code",
   "execution_count": 21,
   "id": "323ca02f",
   "metadata": {},
   "outputs": [
    {
     "name": "stdout",
     "output_type": "stream",
     "text": [
      "0\n",
      "2\n",
      "4\n",
      "6\n",
      "8\n"
     ]
    }
   ],
   "source": [
    "# end옵션이 생략되면 디폴트 값은 \\n이다.\n",
    "\n",
    "for i in range(0, 10, 2) :\n",
    "    print(i)"
   ]
  },
  {
   "cell_type": "code",
   "execution_count": 25,
   "id": "4f7c2601",
   "metadata": {},
   "outputs": [
    {
     "name": "stdout",
     "output_type": "stream",
     "text": [
      "1 * 0 = 0\n",
      "1 * 1 = 1\n",
      "1 * 2 = 2\n",
      "1 * 3 = 3\n",
      "1 * 4 = 4\n",
      "1 * 5 = 5\n",
      "1 * 6 = 6\n",
      "1 * 7 = 7\n",
      "1 * 8 = 8\n",
      "1 * 9 = 9\n",
      "2 * 0 = 0\n",
      "2 * 1 = 2\n",
      "2 * 2 = 4\n",
      "2 * 3 = 6\n",
      "2 * 4 = 8\n",
      "2 * 5 = 10\n",
      "2 * 6 = 12\n",
      "2 * 7 = 14\n",
      "2 * 8 = 16\n",
      "2 * 9 = 18\n",
      "3 * 0 = 0\n",
      "3 * 1 = 3\n",
      "3 * 2 = 6\n",
      "3 * 3 = 9\n",
      "3 * 4 = 12\n",
      "3 * 5 = 15\n",
      "3 * 6 = 18\n",
      "3 * 7 = 21\n",
      "3 * 8 = 24\n",
      "3 * 9 = 27\n",
      "4 * 0 = 0\n",
      "4 * 1 = 4\n",
      "4 * 2 = 8\n",
      "4 * 3 = 12\n",
      "4 * 4 = 16\n",
      "4 * 5 = 20\n",
      "4 * 6 = 24\n",
      "4 * 7 = 28\n",
      "4 * 8 = 32\n",
      "4 * 9 = 36\n",
      "5 * 0 = 0\n",
      "5 * 1 = 5\n",
      "5 * 2 = 10\n",
      "5 * 3 = 15\n",
      "5 * 4 = 20\n",
      "5 * 5 = 25\n",
      "5 * 6 = 30\n",
      "5 * 7 = 35\n",
      "5 * 8 = 40\n",
      "5 * 9 = 45\n",
      "6 * 0 = 0\n",
      "6 * 1 = 6\n",
      "6 * 2 = 12\n",
      "6 * 3 = 18\n",
      "6 * 4 = 24\n",
      "6 * 5 = 30\n",
      "6 * 6 = 36\n",
      "6 * 7 = 42\n",
      "6 * 8 = 48\n",
      "6 * 9 = 54\n",
      "7 * 0 = 0\n",
      "7 * 1 = 7\n",
      "7 * 2 = 14\n",
      "7 * 3 = 21\n",
      "7 * 4 = 28\n",
      "7 * 5 = 35\n",
      "7 * 6 = 42\n",
      "7 * 7 = 49\n",
      "7 * 8 = 56\n",
      "7 * 9 = 63\n",
      "8 * 0 = 0\n",
      "8 * 1 = 8\n",
      "8 * 2 = 16\n",
      "8 * 3 = 24\n",
      "8 * 4 = 32\n",
      "8 * 5 = 40\n",
      "8 * 6 = 48\n",
      "8 * 7 = 56\n",
      "8 * 8 = 64\n",
      "8 * 9 = 72\n",
      "9 * 0 = 0\n",
      "9 * 1 = 9\n",
      "9 * 2 = 18\n",
      "9 * 3 = 27\n",
      "9 * 4 = 36\n",
      "9 * 5 = 45\n",
      "9 * 6 = 54\n",
      "9 * 7 = 63\n",
      "9 * 8 = 72\n",
      "9 * 9 = 81\n"
     ]
    }
   ],
   "source": [
    "for i in range(1, 10) :\n",
    "    for j in range(10) :\n",
    "        h = i * j\n",
    "        \n",
    "        print(i, \"*\", j, \"=\", h)"
   ]
  },
  {
   "cell_type": "code",
   "execution_count": 26,
   "id": "aac2d2f3",
   "metadata": {},
   "outputs": [
    {
     "name": "stdout",
     "output_type": "stream",
     "text": [
      "2 * 1  =  2\n",
      "2 * 2  =  4\n",
      "2 * 3  =  6\n",
      "2 * 4  =  8\n",
      "2 * 5  =  10\n",
      "2 * 6  =  12\n",
      "2 * 7  =  14\n",
      "2 * 8  =  16\n",
      "2 * 9  =  18\n",
      "3 * 1  =  3\n",
      "3 * 2  =  6\n",
      "3 * 3  =  9\n",
      "3 * 4  =  12\n",
      "3 * 5  =  15\n",
      "3 * 6  =  18\n",
      "3 * 7  =  21\n",
      "3 * 8  =  24\n",
      "3 * 9  =  27\n",
      "4 * 1  =  4\n",
      "4 * 2  =  8\n",
      "4 * 3  =  12\n",
      "4 * 4  =  16\n",
      "4 * 5  =  20\n",
      "4 * 6  =  24\n",
      "4 * 7  =  28\n",
      "4 * 8  =  32\n",
      "4 * 9  =  36\n",
      "5 * 1  =  5\n",
      "5 * 2  =  10\n",
      "5 * 3  =  15\n",
      "5 * 4  =  20\n",
      "5 * 5  =  25\n",
      "5 * 6  =  30\n",
      "5 * 7  =  35\n",
      "5 * 8  =  40\n",
      "5 * 9  =  45\n",
      "6 * 1  =  6\n",
      "6 * 2  =  12\n",
      "6 * 3  =  18\n",
      "6 * 4  =  24\n",
      "6 * 5  =  30\n",
      "6 * 6  =  36\n",
      "6 * 7  =  42\n",
      "6 * 8  =  48\n",
      "6 * 9  =  54\n",
      "7 * 1  =  7\n",
      "7 * 2  =  14\n",
      "7 * 3  =  21\n",
      "7 * 4  =  28\n",
      "7 * 5  =  35\n",
      "7 * 6  =  42\n",
      "7 * 7  =  49\n",
      "7 * 8  =  56\n",
      "7 * 9  =  63\n",
      "8 * 1  =  8\n",
      "8 * 2  =  16\n",
      "8 * 3  =  24\n",
      "8 * 4  =  32\n",
      "8 * 5  =  40\n",
      "8 * 6  =  48\n",
      "8 * 7  =  56\n",
      "8 * 8  =  64\n",
      "8 * 9  =  72\n",
      "9 * 1  =  9\n",
      "9 * 2  =  18\n",
      "9 * 3  =  27\n",
      "9 * 4  =  36\n",
      "9 * 5  =  45\n",
      "9 * 6  =  54\n",
      "9 * 7  =  63\n",
      "9 * 8  =  72\n",
      "9 * 9  =  81\n"
     ]
    }
   ],
   "source": [
    "for i in range(2, 10, 1) :\n",
    "    for j in range(1, 10, 1) :\n",
    "        print(i, \"*\", j, \" = \", i * j)"
   ]
  }
 ],
 "metadata": {
  "kernelspec": {
   "display_name": "Python 3 (ipykernel)",
   "language": "python",
   "name": "python3"
  },
  "language_info": {
   "codemirror_mode": {
    "name": "ipython",
    "version": 3
   },
   "file_extension": ".py",
   "mimetype": "text/x-python",
   "name": "python",
   "nbconvert_exporter": "python",
   "pygments_lexer": "ipython3",
   "version": "3.9.12"
  }
 },
 "nbformat": 4,
 "nbformat_minor": 5
}
